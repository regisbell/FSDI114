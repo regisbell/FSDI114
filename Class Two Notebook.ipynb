{
 "cells": [
  {
   "cell_type": "code",
   "execution_count": 4,
   "id": "43d155c3",
   "metadata": {},
   "outputs": [],
   "source": [
    "class Stack:\n",
    "    def __init__(self):\n",
    "        self.items = []\n",
    "        \n",
    "    def is_empty(self):\n",
    "        return self.items == []\n",
    "    \n",
    "    def push(self, item):\n",
    "        self.items.append(item)\n",
    "        \n",
    "    def pop(self):\n",
    "        return self.items.pop()\n",
    "    \n",
    "    def peek(self):\n",
    "        return self.items[len(self.items)-1]\n",
    "    \n",
    "    def size(self):\n",
    "        return len(self.items)\n",
    "    "
   ]
  },
  {
   "cell_type": "code",
   "execution_count": 2,
   "id": "68aa753a",
   "metadata": {},
   "outputs": [],
   "source": [
    "# given a string: \"abcde\", invert it so that we get \"edcba\"\n",
    "# constraint: must use the stack class above\n",
    "\n"
   ]
  },
  {
   "cell_type": "code",
   "execution_count": 5,
   "id": "028b0c0f",
   "metadata": {},
   "outputs": [],
   "source": [
    "def invert_string(my_string):\n",
    "    stack = Stack()\n",
    "    for letter in my_string:\n",
    "        stack.push(letter)\n",
    "    out_str = \"\"\n",
    "    while not stack.is_empty():\n",
    "         # out_str = out_str + stack.pop()\n",
    "        out_str += stack.pop()\n",
    "    return out_str\n",
    "    "
   ]
  },
  {
   "cell_type": "code",
   "execution_count": 6,
   "id": "d84ab065",
   "metadata": {},
   "outputs": [],
   "source": [
    "# invert(my_string) -> my_string = RAMB\n",
    "# line: create stack\n",
    "# first loop: iteration_1: letter = R; stack = ['R']\n",
    "# iteration_2: letter = A; stack =  ['R', 'A']\n",
    "# iteration_3: letter = M, stack = ['R', 'A', 'M']\n",
    "# iteration_4: letter = B, stack = ['R', 'A', 'M', 'B']\n",
    "# on line 6: out_srt = \"\"\n",
    "# second loop: iteration_1: stack not empty, so: out_str = 'B'; stack = ['R', 'A', 'M']\n",
    "# second loop: iteration_1: stack not empty, so: out_str = 'M'; stack = ['R', 'A']\n",
    "# second loop: iteration_1: stack not empty, so: out_str = 'A'; stack = ['R']\n",
    "# second loop: iteration_1: stack not empty, so: out_str = 'R'; stack = []\n",
    "# line 8: stack is empty so the while loop exits and we jump to line 11.\n",
    "# On line 11, we return ou \"out_str\" variable which contains the inverted string."
   ]
  },
  {
   "cell_type": "code",
   "execution_count": null,
   "id": "646a7b82",
   "metadata": {},
   "outputs": [],
   "source": [
    "class Queue:\n",
    "    def __init__(self):\n",
    "        self.items = []\n",
    "    \n",
    "    def is_empty(self):\n",
    "        return self.items == []\n",
    "    \n",
    "    def enqueue(self, item):\n",
    "        self.items.insert(0, item)\n",
    "        \n",
    "    def dequeue(self):\n",
    "        return self.items.pop()\n",
    "    \n",
    "    def size(self):\n",
    "        return len(self.items)"
   ]
  }
 ],
 "metadata": {
  "kernelspec": {
   "display_name": "Python 3 (ipykernel)",
   "language": "python",
   "name": "python3"
  },
  "language_info": {
   "codemirror_mode": {
    "name": "ipython",
    "version": 3
   },
   "file_extension": ".py",
   "mimetype": "text/x-python",
   "name": "python",
   "nbconvert_exporter": "python",
   "pygments_lexer": "ipython3",
   "version": "3.8.10"
  }
 },
 "nbformat": 4,
 "nbformat_minor": 5
}
