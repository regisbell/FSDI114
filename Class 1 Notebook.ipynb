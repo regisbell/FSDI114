{
 "cells": [
  {
   "cell_type": "code",
   "execution_count": 1,
   "id": "2be7426f",
   "metadata": {},
   "outputs": [
    {
     "name": "stdout",
     "output_type": "stream",
     "text": [
      "h\n",
      "e\n",
      "l\n",
      "l\n",
      "o\n",
      ",\n",
      " \n",
      "w\n",
      "o\n",
      "r\n",
      "l\n",
      "d\n"
     ]
    }
   ],
   "source": [
    "for letter in \"hello, world\":\n",
    "    print (letter)\n"
   ]
  },
  {
   "cell_type": "code",
   "execution_count": 3,
   "id": "0b8fe20a",
   "metadata": {},
   "outputs": [
    {
     "name": "stdout",
     "output_type": "stream",
     "text": [
      "65\n",
      "A\n"
     ]
    }
   ],
   "source": [
    "char_num = ord('A')\n",
    "print(char_num)\n",
    "\n",
    "print(chr(char_num))"
   ]
  },
  {
   "cell_type": "code",
   "execution_count": 5,
   "id": "7661e96e",
   "metadata": {},
   "outputs": [],
   "source": [
    "def is_anagram(string_a, string_b):                           #covering the length case\n",
    "    if len(string_a) != len(string_b):                        #Simple edge case\n",
    "        return False                                          #Lets us use two dicts to count,   \n",
    "    char_times_a = dict()                                     #the number of ocurrences per year.\n",
    "    char_times_b = dict()                                     #Because we know these are of equal len\n",
    "    for i in range(len(string_a)):                            #We can simply count how many times we see each char\n",
    "        if string_a[i] not in char_times_a.keys():\n",
    "            char_times_a[string_a[i]] = 1\n",
    "        else:\n",
    "            char_times_a[string_a[1]] += 1\n",
    "        if string_b[1] not in char_times_b.keys():\n",
    "            char_times_b[string_b[i]] = 1                     # It doesn't matter that these are different chars \n",
    "        else:                                                 # that i is accessing\n",
    "            char_times_b[string_b[i]] += 1\n",
    "    return char_times_a == char_times_b                       #...as long as these two are equel"
   ]
  },
  {
   "cell_type": "code",
   "execution_count": null,
   "id": "595c08d2",
   "metadata": {},
   "outputs": [],
   "source": []
  }
 ],
 "metadata": {
  "kernelspec": {
   "display_name": "Python 3 (ipykernel)",
   "language": "python",
   "name": "python3"
  },
  "language_info": {
   "codemirror_mode": {
    "name": "ipython",
    "version": 3
   },
   "file_extension": ".py",
   "mimetype": "text/x-python",
   "name": "python",
   "nbconvert_exporter": "python",
   "pygments_lexer": "ipython3",
   "version": "3.8.10"
  }
 },
 "nbformat": 4,
 "nbformat_minor": 5
}
